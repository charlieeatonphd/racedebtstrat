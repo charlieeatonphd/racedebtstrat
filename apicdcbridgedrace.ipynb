{
 "cells": [
  {
   "cell_type": "markdown",
   "metadata": {
    "slideshow": {
     "slide_type": "slide"
    }
   },
   "source": [
    "# CDC bridged race API query for White Flight\n",
    "\n",
    "forked from github.com/alipphardt/cdc-wonder-api"
   ]
  },
  {
   "cell_type": "markdown",
   "metadata": {
    "slideshow": {
     "slide_type": "slide"
    }
   },
   "source": [
    "Request URL: https://wonder.cdc.gov/controller/datarequest/D163;jsessionid=3F17CA07F14D5D17A6D847935474\n",
    "Request Method: POST\n",
    "Status Code: 200 200\n",
    "Remote Address: 198.246.102.99:443\n",
    "Referrer Policy: strict-origin-when-cross-origin\n",
    "saved_id: \n",
    "dataset_code: D163\n",
    "dataset_label: Bridged-Race Population Estimates 1990-2019\n",
    "dataset_vintage_latest: Bridged Race\n",
    "stage: request\n",
    "\n",
    "finder-stage-D163.V2: codeset\n",
    "\n",
    "finder-stage-D163.V9: codeset\n",
    "\n",
    "action-Send: Send\n",
    "\n",
    "B_1: D163.V2-level1\n",
    "B_2: D163.V4\n",
    "B_3: D163.V1\n",
    "B_4: *None*\n",
    "B_5: *None*\n",
    "\n",
    "F_D163.V2: *All*\n",
    "F_D163.V9: *All*\n",
    "\n",
    "I_D163.V2: *All* (The United States)\n",
    "I_D163.V9: *All* (The United States)\n",
    "\n",
    "M_1: D163.M1\n",
    "\n",
    "O_title: \n",
    "O_location: D163.V2\n",
    "O_age: D163.V3\n",
    "O_V9_fmode: freg\n",
    "O_javascript: on\n",
    "O_V2_fmode: freg\n",
    "O_show_totals: true\n",
    "O_precision: 0\n",
    "O_timeout: 600\n",
    "O_datatable: default\n",
    "\n",
    "V_D163.V2: \n",
    "V_D163.V9: \n",
    "V_D163.V3: 18\n",
    "V_D163.V3: 19\n",
    "V_D163.V3: 20\n",
    "V_D163.V3: 21\n",
    "V_D163.V3: 22\n",
    "V_D163.V3: 23\n",
    "V_D163.V3: 24\n",
    "V_D163.V8: *All*\n",
    "V_D163.V4: *All*\n",
    "V_D163.V6: 2186-5\n",
    "V_D163.V1: *All*\n",
    "V_D163.V5: *All*"
   ]
  },
  {
   "cell_type": "markdown",
   "metadata": {
    "slideshow": {
     "slide_type": "slide"
    }
   },
   "source": [
    "For this example, we will focus on the [Detailed Mortality](https://wonder.cdc.gov/ucd-icd10.html) database, which provides counts or rates (crude or age-adjusted) for underlying cause of death at the national, state and county levels. Using the query tool, the user can select grouping and filtering variables that are use to generate a dataset. Results are provided as a data table which can then be exported to a tab delimited file or visualized."
   ]
  },
  {
   "cell_type": "markdown",
   "metadata": {
    "slideshow": {
     "slide_type": "slide"
    }
   },
   "source": [
    "WONDER provides an API that allows the same queries to be issued through a POST request to WONDER's web server. Requests and responses are issued in XML format and are detailed in the [API Documentation](https://wonder.cdc.gov/wonder/help/WONDER-API.html) page. "
   ]
  },
  {
   "cell_type": "markdown",
   "metadata": {
    "slideshow": {
     "slide_type": "slide"
    }
   },
   "source": [
    "Each XML request consists of a series of parameter tags with name and value children in the following format:\n",
    "\n",
    "```\n",
    "<request-parameters>\n",
    "    <parameter>\n",
    "        <name></name>\n",
    "        <value></value>\n",
    "    <parameter>\n",
    "    ...\n",
    "</request-parameters>\n",
    "```\n",
    "\n",
    "A reference of parameter names and values can be found on [CDC WONDER Wiki page](https://loyola.campuspack.net/Groups/17FA_CS-703-501/Pet_API#/page/364768481#referenceParameters)"
   ]
  },
  {
   "cell_type": "code",
   "execution_count": 1,
   "metadata": {},
   "outputs": [
    {
     "name": "stdout",
     "output_type": "stream",
     "text": [
      "Requirement already satisfied: pandas in /Users/Charlie/opt/anaconda3/lib/python3.7/site-packages (0.25.3)\n",
      "Requirement already satisfied: pytz>=2017.2 in /Users/Charlie/opt/anaconda3/lib/python3.7/site-packages (from pandas) (2019.3)\n",
      "Requirement already satisfied: python-dateutil>=2.6.1 in /Users/Charlie/opt/anaconda3/lib/python3.7/site-packages (from pandas) (2.8.1)\n",
      "Requirement already satisfied: numpy>=1.13.3 in /Users/Charlie/opt/anaconda3/lib/python3.7/site-packages (from pandas) (1.17.4)\n",
      "Requirement already satisfied: six>=1.5 in /Users/Charlie/opt/anaconda3/lib/python3.7/site-packages (from python-dateutil>=2.6.1->pandas) (1.13.0)\n",
      "\u001b[33mWARNING: You are using pip version 20.2.3; however, version 21.0.1 is available.\n",
      "You should consider upgrading via the '/Users/Charlie/opt/anaconda3/bin/python -m pip install --upgrade pip' command.\u001b[0m\n",
      "Requirement already satisfied: lxml in /Users/Charlie/opt/anaconda3/lib/python3.7/site-packages (4.4.2)\n",
      "\u001b[33mWARNING: You are using pip version 20.2.3; however, version 21.0.1 is available.\n",
      "You should consider upgrading via the '/Users/Charlie/opt/anaconda3/bin/python -m pip install --upgrade pip' command.\u001b[0m\n",
      "Requirement already satisfied: beautifulsoup4 in /Users/Charlie/opt/anaconda3/lib/python3.7/site-packages (4.8.2)\n",
      "Requirement already satisfied: soupsieve>=1.2 in /Users/Charlie/opt/anaconda3/lib/python3.7/site-packages (from beautifulsoup4) (1.9.5)\n",
      "\u001b[33mWARNING: You are using pip version 20.2.3; however, version 21.0.1 is available.\n",
      "You should consider upgrading via the '/Users/Charlie/opt/anaconda3/bin/python -m pip install --upgrade pip' command.\u001b[0m\n"
     ]
    }
   ],
   "source": [
    "!pip install pandas\n",
    "!pip install lxml\n",
    "!pip install beautifulsoup4"
   ]
  },
  {
   "cell_type": "code",
   "execution_count": 131,
   "metadata": {
    "slideshow": {
     "slide_type": "slide"
    }
   },
   "outputs": [],
   "source": [
    "# by-variables\" or those parameters selected in the \"Group Results By\" and the \"And By\" drop-down lists \n",
    "# in the \"Request Form.\" These \"by-variables\" are the cross-tabulations, stratifications or indexes \n",
    "# to the query results. Expect the results data table to show a row for each category in the by-variables, \n",
    "# and a column for each measure. For example, if you wish to compare data by sex, then \"group results by\" gender, \n",
    "# to get a row for females and a row for males in the output.\n",
    "# M_ are measures to return, the default measures plus any optional measures.\n",
    "\n",
    "# For this example, will group by year and race\n",
    "\n",
    "b_parameters = {\n",
    "    \"B_1\": \"D163.V1\",\n",
    "    \"B_2\": \"D163.V2-level2\",\n",
    "    \"B_3\": \"D163.V4\",\n",
    "    \"B_4\": \"*None*\",\n",
    "    \"B_5\": \"*None*\"\n",
    "}"
   ]
  },
  {
   "cell_type": "code",
   "execution_count": 132,
   "metadata": {
    "slideshow": {
     "slide_type": "slide"
    }
   },
   "outputs": [],
   "source": [
    "# measures to return, the default measures plus any optional measures\n",
    "\n",
    "# For this example, include deaths, population, and crude rate\n",
    "\n",
    "m_parameters = {\n",
    "    \"M_1\": \"D163.M1\"}"
   ]
  },
  {
   "cell_type": "code",
   "execution_count": 133,
   "metadata": {
    "slideshow": {
     "slide_type": "slide"
    }
   },
   "outputs": [],
   "source": [
    "# values highlighted in a \"Finder\" control for hierarchical lists, \n",
    "# such as the \"Regions/Divisions/States/Counties hierarchical\" list.\n",
    "\n",
    "# For this example, include all years, months, census regions, hhs regions, states. Only include ICD-10 K00-K92\n",
    "# for disease of the digestive system\n",
    "\n",
    "f_parameters = {\n",
    "    \"F_D163.V2\": \"*All*\", # state parameter\n",
    "    \"F_D163.V9\": [\"*All*\"],\n",
    "\n",
    "}"
   ]
  },
  {
   "cell_type": "code",
   "execution_count": 134,
   "metadata": {
    "slideshow": {
     "slide_type": "slide"
    }
   },
   "outputs": [],
   "source": [
    "# contents of the \"Currently selected\" information areas next to \"Finder\" controls in the \"Request Form.\"\n",
    "\n",
    "# For this example, include all dates, census regions, hhs regions, and states.\n",
    "# Only include ICD-10 code K00-K92 for disease of the digestive system\n",
    "\n",
    "i_parameters = {\n",
    "    \"I_D163.V2\": \"*All*\",  # year/month\n",
    "    \"I_D163.V9\": \"*All* (The United States)\" # State County - dont change\n",
    "    \n",
    "}"
   ]
  },
  {
   "cell_type": "code",
   "execution_count": 135,
   "metadata": {
    "slideshow": {
     "slide_type": "slide"
    }
   },
   "outputs": [],
   "source": [
    "# variable values to limit in the \"where\" clause of the query, found in multiple select \n",
    "# list boxes and advanced finder text entry boxes in the \"Request Form.\"\n",
    "\n",
    "# For this example, we want to include ten-year age groups for ages 15-44.\n",
    "# For all other categories, include all values\n",
    "\n",
    "v_parameters = {\n",
    "\"V_D163.V1\": \"1990\",  \n",
    "    \"V_D163.V2\": \"\",  \n",
    "\"V_D163.V3\": [\"18\",\"19\",\"20\",\"21\",\"22\",\"23\",\"24\"],\n",
    "\"V_D163.V4\": \"*All*\",   \n",
    "\"V_D163.V5\": \"*All*\",    \n",
    "\"V_D163.V6\": \"2186-5\",\n",
    "\"V_D163.V8\": \"*All*\",\n",
    "\"V_D163.V9\": \"\",    \n",
    "}\n"
   ]
  },
  {
   "cell_type": "code",
   "execution_count": 137,
   "metadata": {
    "slideshow": {
     "slide_type": "slide"
    }
   },
   "outputs": [],
   "source": [
    "# other parameters, such as radio buttons, checkboxes, and lists that are not data categories\n",
    "\n",
    "# For this example, include age-adjusted rates, use ten-year age groups (D76.V5), use state location by default, \n",
    "# show rates per 100,000, use 2013 urbanization and use ICD-10 Codes (D76.V2) for cause of death category\n",
    "\n",
    "o_parameters = {\n",
    "#    \"O_V9_fmode\": \"freg\",  \n",
    "#    \"O_V2_fmode\": \"freg\",\n",
    "# Use regular finder and ignore v parameter value\n",
    "#    \"O_age\": \"D163.V3\",        # select age-group (e.g. ten-year, five-year, single-year, infant groups)\n",
    "#    \"O_javascript\": \"on\",     # Set to on by default\n",
    "#    \"O_location\": \"D163.V2\",   # select location variable to use (e.g. state/county, census, hhs regions)\n",
    "#    \"O_precision\": \"1\",       # decimal places\n",
    "#    \"O_show_totals\": \"false\",  # Show totals for \n",
    "#    \"O_timeout\": \"300\",\n",
    "#    \"O_title\": \"testrun\",    # title for data run\n",
    "#    \"O_datatable\": \"default\",    # title for data run\n",
    "#    \"O_change_action-Send-Export Results\": \"Export Results\"\n",
    "    \n",
    "\"O_title\":  \"\", \n",
    "\"O_location\": \"D163.V2\",\n",
    "\"O_age\": \"D163.V3\",\n",
    "\"O_V9_fmode\": \"freg\",\n",
    "\"O_javascript\": \"on\",\n",
    "\"O_V2_fmode\": \"freg\",\n",
    "\"O_show_totals\": \"true\",\n",
    "\"O_precision\": \"0\",\n",
    "\"O_timeout\": \"600\",\n",
    "\"O_datatable\": \"default\"\n",
    "}"
   ]
  },
  {
   "cell_type": "code",
   "execution_count": null,
   "metadata": {
    "slideshow": {
     "slide_type": "slide"
    }
   },
   "outputs": [],
   "source": []
  },
  {
   "cell_type": "code",
   "execution_count": 138,
   "metadata": {
    "slideshow": {
     "slide_type": "slide"
    }
   },
   "outputs": [],
   "source": [
    "# Miscellaneous hidden inputs/parameters usually passed by web form. These do not change.\n",
    "misc_parameters = {\n",
    "    \"action-Send\": \"Send\",\n",
    "#    \"finder-stage-D76.V1\": \"codeset\",\n",
    "#    \"finder-stage-D76.V1\": \"codeset\",\n",
    "#    \"finder-stage-D76.V2\": \"codeset\",\n",
    "#    \"finder-stage-D76.V27\": \"codeset\",\n",
    "#    \"finder-stage-D76.V9\": \"codeset\",\n",
    "    \"stage\": \"request\"\n",
    "}"
   ]
  },
  {
   "cell_type": "code",
   "execution_count": 139,
   "metadata": {
    "slideshow": {
     "slide_type": "slide"
    }
   },
   "outputs": [],
   "source": [
    "def createParameterList(parameterList):\n",
    "    \"\"\"Helper function to create a parameter list from a dictionary object\"\"\"\n",
    "    \n",
    "    parameterString = \"\"\n",
    "    \n",
    "    for key in parameterList:\n",
    "        parameterString += \"<parameter>\\n\"\n",
    "        parameterString += \"<name>\" + key + \"</name>\\n\"\n",
    "        \n",
    "        if isinstance(parameterList[key], list):\n",
    "            for value in parameterList[key]:\n",
    "                parameterString += \"<value>\" + value + \"</value>\\n\"\n",
    "        else:\n",
    "            parameterString += \"<value>\" + parameterList[key] + \"</value>\\n\"\n",
    "        \n",
    "        parameterString += \"</parameter>\\n\"\n",
    "        \n",
    "    return parameterString"
   ]
  },
  {
   "cell_type": "code",
   "execution_count": 140,
   "metadata": {
    "slideshow": {
     "slide_type": "slide"
    }
   },
   "outputs": [],
   "source": [
    "xml_request = \"<request-parameters>\\n\"\n",
    "xml_request += createParameterList(b_parameters)\n",
    "xml_request += createParameterList(m_parameters)\n",
    "xml_request += createParameterList(f_parameters)\n",
    "xml_request += createParameterList(i_parameters)\n",
    "xml_request += createParameterList(o_parameters)\n",
    "#xml_request += createParameterList(vm_parameters)\n",
    "xml_request += createParameterList(v_parameters)\n",
    "#xml_request += createParameterList(misc_parameters)\n",
    "xml_request += \"</request-parameters>\""
   ]
  },
  {
   "cell_type": "code",
   "execution_count": null,
   "metadata": {},
   "outputs": [],
   "source": [
    "#print(xml_request)"
   ]
  },
  {
   "cell_type": "code",
   "execution_count": 141,
   "metadata": {
    "slideshow": {
     "slide_type": "slide"
    }
   },
   "outputs": [],
   "source": [
    "import requests\n",
    "\n",
    "url = \"https://wonder.cdc.gov/controller/datarequest/D163\"\n",
    "response = requests.post(url, data={\"request_xml\": xml_request, \"accept_datause_restrictions\": \"true\"})\n",
    "\n",
    "if response.status_code == 200:\n",
    "    data = response.text\n",
    "else:\n",
    "    print(response.text)\n",
    "    #print(\"something went wrong\")"
   ]
  },
  {
   "cell_type": "code",
   "execution_count": null,
   "metadata": {},
   "outputs": [],
   "source": [
    "#print(response.text)"
   ]
  },
  {
   "cell_type": "code",
   "execution_count": null,
   "metadata": {},
   "outputs": [],
   "source": []
  },
  {
   "cell_type": "code",
   "execution_count": null,
   "metadata": {
    "slideshow": {
     "slide_type": "slide"
    }
   },
   "outputs": [],
   "source": [
    "# BeautifulSoup library facilitates parsing of XML response\n",
    "import bs4 as bs\n",
    "import lxml\n",
    "# This library faciliates 2-dimensional array operations and visualization\n",
    "import pandas as pd"
   ]
  },
  {
   "cell_type": "code",
   "execution_count": null,
   "metadata": {
    "code_folding": [],
    "slideshow": {
     "slide_type": "slide"
    }
   },
   "outputs": [],
   "source": [
    "def xml2df(xml_data):\n",
    "    \"\"\" This function grabs the root of the XML document and iterates over\n",
    "        the 'r' (row) and 'c' (column) tags of the data-table\n",
    "        Rows with a 'v' attribute contain a numerical value\n",
    "        Rows with a 'l attribute contain a text label and may contain an\n",
    "        additional 'r' (rowspan) tag which identifies how many rows the value\n",
    "        should be added. If present, that label will be added to the following\n",
    "        rows of the data table.\n",
    "    \n",
    "        Function returns a two-dimensional array or data frame that may be \n",
    "        used by the pandas library.\"\"\"\n",
    "    \n",
    "    root = bs.BeautifulSoup(xml_data,\"lxml\")\n",
    "    all_records = []\n",
    "    row_number = 0\n",
    "    rows = root.find_all(\"r\")\n",
    "    \n",
    "    for row in rows:\n",
    "        if row_number >= len(all_records):\n",
    "            all_records.append([])\n",
    "              \n",
    "        for cell in row.find_all(\"c\"):\n",
    "            if 'v' in cell.attrs:\n",
    "                try:\n",
    "                    all_records[row_number].append(float(cell.attrs[\"v\"].replace(',','')))\n",
    "                except ValueError:\n",
    "                    all_records[row_number].append(cell.attrs[\"v\"])\n",
    "            else:\n",
    "                if 'r' not in cell.attrs:\n",
    "                    all_records[row_number].append(cell.attrs[\"l\"])\n",
    "                else:\n",
    "                \n",
    "                    for row_index in range(int(cell.attrs[\"r\"])):\n",
    "                        if (row_number + row_index) >= len(all_records):\n",
    "                            all_records.append([])\n",
    "                            all_records[row_number + row_index].append(cell.attrs[\"l\"])\n",
    "                        else:\n",
    "                            all_records[row_number + row_index].append(cell.attrs[\"l\"])\n",
    "                                           \n",
    "        row_number += 1\n",
    "    return all_records"
   ]
  },
  {
   "cell_type": "code",
   "execution_count": null,
   "metadata": {
    "slideshow": {
     "slide_type": "slide"
    }
   },
   "outputs": [],
   "source": [
    "data_frame = xml2df(data)\n",
    "\n",
    "df = pd.DataFrame(data=data_frame)\n",
    "\n",
    "#df.head()\n",
    "display(df)"
   ]
  },
  {
   "cell_type": "code",
   "execution_count": null,
   "metadata": {},
   "outputs": [],
   "source": []
  }
 ],
 "metadata": {
  "celltoolbar": "Slideshow",
  "kernelspec": {
   "display_name": "Python 3",
   "language": "python",
   "name": "python3"
  },
  "language_info": {
   "codemirror_mode": {
    "name": "ipython",
    "version": 3
   },
   "file_extension": ".py",
   "mimetype": "text/x-python",
   "name": "python",
   "nbconvert_exporter": "python",
   "pygments_lexer": "ipython3",
   "version": "3.7.1"
  },
  "varInspector": {
   "cols": {
    "lenName": 16,
    "lenType": 16,
    "lenVar": 40
   },
   "kernels_config": {
    "python": {
     "delete_cmd_postfix": "",
     "delete_cmd_prefix": "del ",
     "library": "var_list.py",
     "varRefreshCmd": "print(var_dic_list())"
    },
    "r": {
     "delete_cmd_postfix": ") ",
     "delete_cmd_prefix": "rm(",
     "library": "var_list.r",
     "varRefreshCmd": "cat(var_dic_list()) "
    }
   },
   "types_to_exclude": [
    "module",
    "function",
    "builtin_function_or_method",
    "instance",
    "_Feature"
   ],
   "window_display": false
  }
 },
 "nbformat": 4,
 "nbformat_minor": 4
}
