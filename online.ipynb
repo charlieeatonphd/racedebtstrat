{
 "cells": [
  {
   "cell_type": "markdown",
   "metadata": {},
   "source": [
    "# Higher Education DataHub: Online Education Data\n",
    "## Use Case for Arnold\n",
    "### By Charlie Eaton and Laura Hamilton, UC Merced\n",
    "### September 4, 2020, code available at "
   ]
  },
  {
   "cell_type": "markdown",
   "metadata": {},
   "source": [
    "## Download datasets from IPEDS, read into Stata, and restructure"
   ]
  },
  {
   "cell_type": "code",
   "execution_count": 28,
   "metadata": {},
   "outputs": [],
   "source": [
    "quietly {\n",
    "    forvalues year=2008/2018 {\n",
    "copy https://nces.ed.gov/ipeds/datacenter/data/EF`year'A_Data_Stata.zip EF`year'A_Data_Stata.zip, replace\n",
    "unzipfile EF`year'A_Data_Stata, replace\n",
    "insheet using ef`year'a_data_stata.csv, clear\n",
    "drop x*\n",
    "foreach var in totlt totlm totlw aiant aianm aianw asiat asiam ///\n",
    "asiaw bkaat bkaam bkaaw hispt hispm hispw whitt whitm whitw ///\n",
    "unknt unknm unknw 2mort 2morm 2morw nralt nralm nralw nhpit ///\n",
    "nhpim nhpiw {\n",
    "quietly gen ftfirstef`var'=ef`var' if line == 1\n",
    "quietly gen ptfirstef`var'=ef`var' if line == 15\n",
    "quietly gen allfirstef`var'=ef`var' if efalevel==4\n",
    "quietly gen ptunderef`var'=ef`var' if line == 22\n",
    "quietly gen ftunderef`var'=ef`var' if line == 8\n",
    "}\n",
    "**REPLACE ZERO VALUES WITH SMALL NEGATIVE VALUES**\n",
    "foreach group in totlt totlm totlw aiant aianm aianw asiat asiam ///\n",
    "asiaw bkaat bkaam bkaaw hispt hispm hispw whitt whitm whitw ///\n",
    "unknt unknm unknw 2mort 2morm 2morw nralt nralm nralw nhpit ///\n",
    "nhpim nhpiw {\n",
    "foreach level in ftfirst ptfirst allfirst ptunder ftunder {\n",
    "quietly bysort unitid `level'ef`group' : gen miss`level'ef`group' = missing(`level'ef`group'[1])\n",
    "}\n",
    "}\n",
    "**COLLAPSE ENROLLMENT VARIABLES TO A SINGLE ROW FOR ALL INSTITUTIONS**\n",
    "collapse (min) miss* (sum) ft* pt* all*, by(unitid)\n",
    "\n",
    "foreach group in totlt totlm totlw aiant aianm aianw asiat asiam ///\n",
    "asiaw bkaat bkaam bkaaw hispt hispm hispw whitt whitm whitw ///\n",
    "unknt unknm unknw 2mort 2morm 2morw nralt nralm nralw nhpit ///\n",
    "nhpim nhpiw {\n",
    "foreach level in ftfirst ptfirst allfirst ptunder ftunder {\n",
    "quietly replace `level'ef`group'=. if miss`level'ef`group'\n",
    "}\n",
    "}\n",
    "gen year=`year'\n",
    "        drop miss*\n",
    "save ef`year'a, replace\n",
    "        \n",
    "copy https://nces.ed.gov/ipeds/datacenter/data/HD`year'_Data_Stata.zip HD`year'_Data_Stata.zip, replace\n",
    "unzipfile HD`year'_Data_Stata, replace\n",
    "quietly insheet using hd`year'_data_stata.csv, clear\n",
    "        destring ein gentele, replace\n",
    "        tostring opeid, replace\n",
    "gen year=`year'\n",
    "save hd`year'a, replace\n",
    "\n",
    "copy https://nces.ed.gov/ipeds/datacenter/data/EF`year'C_Data_Stata.zip EF`year'C_Data_Stata.zip, replace\n",
    "unzipfile EF`year'C_Data_Stata, replace\n",
    "insheet using ef`year'c_data_stata.csv, clear\n",
    "    gen total_frosh_res = efres01 if line==99\n",
    "        replace efres01=. if line>89\n",
    "bysort unitid: egen topfroshstate=max(efres01)\n",
    "        keep if line==99\n",
    "        gen year=`year'\n",
    "save ef`year'c, replace\n",
    "    }\n",
    "}"
   ]
  },
  {
   "cell_type": "markdown",
   "metadata": {},
   "source": [
    "## Merge data sets\n",
    "* \"hd\" are directory files\n",
    "* \"ef-year-a\" files are enrollments by race/gender\n",
    "* \"ef-year-c\" files are enrollments by state of student residence"
   ]
  },
  {
   "cell_type": "code",
   "execution_count": 113,
   "metadata": {},
   "outputs": [],
   "source": [
    "quietly {\n",
    "set more off\n",
    "use hd2008a, clear\n",
    "merge 1:1 unitid year using ef2008a, nogen\n",
    "    merge 1:1 unitid year using ef2008c, nogen\n",
    "forvalues year=2009/2018 {\n",
    "    append using hd`year'a\n",
    "    merge 1:1 unitid year using ef`year'a, nogen update\n",
    "    merge 1:1 unitid year using ef`year'c, nogen keepusing(total_frosh_res topfroshstate) update\n",
    "}\n",
    "    drop miss*\n",
    "    keep if control==3\n",
    "        replace year=year+1\n",
    "foreach group in totlt totlm totlw aiant aianm aianw asiat asiam ///\n",
    "asiaw bkaat bkaam bkaaw hispt hispm hispw whitt whitm whitw ///\n",
    "unknt unknm unknw 2mort 2morm 2morw nralt nralm nralw nhpit ///\n",
    "nhpim nhpiw {\n",
    "    egen tunderef`group'=rowtotal (ftunderef`group' ptunderef`group'), missing\n",
    "    }\n",
    "gen pctblackunder=tunderefbkaat / tundereftotlt\n",
    "    gen pctlatinunder=tunderefhispt / tundereftotlt\n",
    "}"
   ]
  },
  {
   "cell_type": "markdown",
   "metadata": {},
   "source": [
    "## Create online indicator\n",
    "* first flag schools if they have \"online\" in their name\n",
    "* second flag schools if fewer than 33% of their students are from a single state (Deming, Goldin, & Katz 2013)"
   ]
  },
  {
   "cell_type": "code",
   "execution_count": 115,
   "metadata": {},
   "outputs": [],
   "source": [
    "quietly {\n",
    "replace instnm=lower(instnm)\n",
    "gen online=regexm(instnm, \"online\")\n",
    "by unitid: replace topfroshstate=topfroshstate[_n+1] if topfroshstate==.\n",
    "by unitid: replace topfroshstate=topfroshstate[_n-1] if topfroshstate==.\n",
    "by unitid: replace total_frosh_res=total_frosh_res[_n+1] if total_frosh_res==.\n",
    "by unitid: replace total_frosh_res=total_frosh_res[_n-1] if total_frosh_res==.\n",
    "replace online=1 if topfroshstate/total_frosh_res<.333333\n",
    "}"
   ]
  },
  {
   "cell_type": "markdown",
   "metadata": {},
   "source": [
    "## Total for-profit colleges by online status:"
   ]
  },
  {
   "cell_type": "code",
   "execution_count": 103,
   "metadata": {},
   "outputs": [
    {
     "name": "stdout",
     "output_type": "stream",
     "text": [
      "\n",
      "\n",
      "------------------------\n",
      "          |    online   \n",
      "     year |     0      1\n",
      "----------+-------------\n",
      "     2009 | 2,952     68\n",
      "     2010 | 3,104     72\n",
      "     2011 | 3,296     79\n",
      "     2012 | 3,477     82\n",
      "     2013 | 3,587     83\n",
      "     2014 | 3,613     74\n",
      "     2015 | 3,571     70\n",
      "     2016 | 3,453     79\n",
      "     2017 | 3,317     79\n",
      "     2018 | 3,005     88\n",
      "     2019 | 2,707     86\n",
      "------------------------\n"
     ]
    }
   ],
   "source": [
    "table year online, c(n tundereftotlt)"
   ]
  },
  {
   "cell_type": "markdown",
   "metadata": {},
   "source": [
    "## Total undergrad enrollments by online status"
   ]
  },
  {
   "cell_type": "code",
   "execution_count": 117,
   "metadata": {},
   "outputs": [
    {
     "name": "stdout",
     "output_type": "stream",
     "text": [
      "\n",
      "----------------------------------\n",
      "          |         online        \n",
      "     year |          0           1\n",
      "----------+-----------------------\n",
      "     2009 |  1,092,912     527,701\n",
      "     2010 |  1,375,350     664,506\n",
      "     2011 |  1,510,362     693,069\n",
      "     2012 |  1,450,197     673,127\n",
      "     2013 |  1,301,659     644,668\n",
      "     2014 |  1,239,261     535,823\n",
      "     2015 |  1,160,651     507,837\n",
      "     2016 |    956,623     453,956\n",
      "     2017 |    817,332     404,357\n",
      "     2018 |    739,805     394,369\n",
      "     2019 |    659,111     361,301\n",
      "----------------------------------\n"
     ]
    }
   ],
   "source": [
    "table year online, c(sum tundereftotlt) format(%10.0fc)"
   ]
  },
  {
   "cell_type": "markdown",
   "metadata": {},
   "source": [
    "## Ratio of students who are Black"
   ]
  },
  {
   "cell_type": "code",
   "execution_count": 116,
   "metadata": {},
   "outputs": [
    {
     "name": "stdout",
     "output_type": "stream",
     "text": [
      "\n",
      "----------------------\n",
      "          |   online  \n",
      "     year |    0     1\n",
      "----------+-----------\n",
      "     2009 | 0.20  0.11\n",
      "     2010 | 0.21  0.15\n",
      "     2011 | 0.23  0.17\n",
      "     2012 | 0.24  0.18\n",
      "     2013 | 0.23  0.18\n",
      "     2014 | 0.24  0.21\n",
      "     2015 | 0.24  0.21\n",
      "     2016 | 0.24  0.20\n",
      "     2017 | 0.24  0.19\n",
      "     2018 | 0.25  0.21\n",
      "     2019 | 0.24  0.21\n",
      "----------------------\n"
     ]
    }
   ],
   "source": [
    "table year online, c(mean pctblackunder) format(%4.2f)"
   ]
  }
 ],
 "metadata": {
  "kernelspec": {
   "display_name": "Stata",
   "language": "stata",
   "name": "stata"
  },
  "language_info": {
   "codemirror_mode": "stata",
   "file_extension": ".do",
   "mimetype": "text/x-stata",
   "name": "stata",
   "version": "15.1"
  }
 },
 "nbformat": 4,
 "nbformat_minor": 4
}
